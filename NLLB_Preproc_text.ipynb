{
  "cells": [
    {
      "cell_type": "code",
      "execution_count": null,
      "metadata": {
        "id": "Z1xUyg1wHuDE"
      },
      "outputs": [],
      "source": [
        "import pandas as pd\n",
        "import numpy as np"
      ]
    },
    {
      "cell_type": "code",
      "execution_count": null,
      "metadata": {
        "id": "f2nEtynb6aQ4"
      },
      "outputs": [],
      "source": [
        "#pip install sentencepiece transformers"
      ]
    },
    {
      "cell_type": "code",
      "execution_count": null,
      "metadata": {
        "id": "c9AOCzPicFky"
      },
      "outputs": [],
      "source": [
        "import re\n",
        "import sys\n",
        "import typing as tp\n",
        "import unicodedata\n",
        "from sacremoses import MosesPunctNormalizer\n",
        "\n",
        "\n",
        "mpn = MosesPunctNormalizer(lang=\"en\")\n",
        "mpn.substitutions = [\n",
        "    (re.compile(r), sub) for r, sub in mpn.substitutions\n",
        "]\n",
        "\n",
        "\n",
        "def get_non_printing_char_replacer(replace_by: str = \" \") -> tp.Callable[[str], str]:\n",
        "    non_printable_map = {\n",
        "        ord(c): replace_by\n",
        "        for c in (chr(i) for i in range(sys.maxunicode + 1))\n",
        "        if unicodedata.category(c) in {\"C\", \"Cc\", \"Cf\", \"Cs\", \"Co\", \"Cn\"}\n",
        "    }\n",
        "\n",
        "    def replace_non_printing_char(line) -> str:\n",
        "        return line.translate(non_printable_map)\n",
        "\n",
        "    return replace_non_printing_char\n",
        "\n",
        "\n",
        "replace_nonprint = get_non_printing_char_replacer(\" \")\n",
        "\n",
        "\n",
        "def preproc(text):\n",
        "    clean = mpn.normalize(text)\n",
        "    clean = replace_nonprint(clean)\n",
        "    clean = unicodedata.normalize(\"NFKC\", clean)\n",
        "    return clean"
      ]
    },
    {
      "cell_type": "code",
      "execution_count": null,
      "metadata": {
        "id": "RHUgey2XHtMG"
      },
      "outputs": [],
      "source": [
        "#DATA_PATH = 'C://Users//Andrej//1_optimiz//'\n",
        "df = pd.read_csv(DATA_PATH + 'data.csv')"
      ]
    },
    {
      "cell_type": "code",
      "execution_count": null,
      "metadata": {
        "id": "8GTc4ST5cFkz"
      },
      "outputs": [],
      "source": [
        "df.target = df.target.apply(preproc)"
      ]
    },
    {
      "cell_type": "code",
      "execution_count": null,
      "metadata": {
        "id": "94PBNPyZcFk0"
      },
      "outputs": [],
      "source": [
        "df.source = df.source.apply(preproc)"
      ]
    },
    {
      "cell_type": "code",
      "execution_count": null,
      "metadata": {
        "id": "gDIv-a3UcFk0",
        "outputId": "5934cf34-45f8-4ba0-b8c7-bdd96a82599f"
      },
      "outputs": [
        {
          "data": {
            "text/html": [
              "<div>\n",
              "<style scoped>\n",
              "    .dataframe tbody tr th:only-of-type {\n",
              "        vertical-align: middle;\n",
              "    }\n",
              "\n",
              "    .dataframe tbody tr th {\n",
              "        vertical-align: top;\n",
              "    }\n",
              "\n",
              "    .dataframe thead th {\n",
              "        text-align: right;\n",
              "    }\n",
              "</style>\n",
              "<table border=\"1\" class=\"dataframe\">\n",
              "  <thead>\n",
              "    <tr style=\"text-align: right;\">\n",
              "      <th></th>\n",
              "      <th>Unnamed: 0</th>\n",
              "      <th>target</th>\n",
              "      <th>source</th>\n",
              "    </tr>\n",
              "  </thead>\n",
              "  <tbody>\n",
              "    <tr>\n",
              "      <th>0</th>\n",
              "      <td>0</td>\n",
              "      <td>Та пыгрисит маим вармаль э̄рнэ поратэт ат верм...</td>\n",
              "      <td>Те мальчики не выполнят задание в назначенный ...</td>\n",
              "    </tr>\n",
              "    <tr>\n",
              "      <th>1</th>\n",
              "      <td>1</td>\n",
              "      <td>Ха̄йтыматэ тӯр ва̄тан ёхтыс, вит ва̄тан ха̄йтыс.</td>\n",
              "      <td>Бегая к берегу озера пришла, к воде подбежала.</td>\n",
              "    </tr>\n",
              "    <tr>\n",
              "      <th>2</th>\n",
              "      <td>2</td>\n",
              "      <td>Вит са̄мыл сунсым о̄нтыс</td>\n",
              "      <td>Вода прибывала на глазах</td>\n",
              "    </tr>\n",
              "    <tr>\n",
              "      <th>3</th>\n",
              "      <td>3</td>\n",
              "      <td>Атаявев, акваг лылынг тагл ворн та тотавев.</td>\n",
              "      <td>Обнюхивает нас, живыми на кладбище уносит.</td>\n",
              "    </tr>\n",
              "    <tr>\n",
              "      <th>4</th>\n",
              "      <td>4</td>\n",
              "      <td>Ман ты пӣлтал, веськат хумиюв нэтхуньт ат ёрув...</td>\n",
              "      <td>Мы никогда не забудем этого честного человека.</td>\n",
              "    </tr>\n",
              "  </tbody>\n",
              "</table>\n",
              "</div>"
            ],
            "text/plain": [
              "   Unnamed: 0                                             target  \\\n",
              "0           0  Та пыгрисит маим вармаль э̄рнэ поратэт ат верм...   \n",
              "1           1   Ха̄йтыматэ тӯр ва̄тан ёхтыс, вит ва̄тан ха̄йтыс.   \n",
              "2           2                           Вит са̄мыл сунсым о̄нтыс   \n",
              "3           3        Атаявев, акваг лылынг тагл ворн та тотавев.   \n",
              "4           4  Ман ты пӣлтал, веськат хумиюв нэтхуньт ат ёрув...   \n",
              "\n",
              "                                              source  \n",
              "0  Те мальчики не выполнят задание в назначенный ...  \n",
              "1     Бегая к берегу озера пришла, к воде подбежала.  \n",
              "2                           Вода прибывала на глазах  \n",
              "3         Обнюхивает нас, живыми на кладбище уносит.  \n",
              "4     Мы никогда не забудем этого честного человека.  "
            ]
          },
          "execution_count": 40,
          "metadata": {},
          "output_type": "execute_result"
        }
      ],
      "source": [
        "df.head()"
      ]
    },
    {
      "cell_type": "code",
      "execution_count": null,
      "metadata": {
        "colab": {
          "base_uri": "https://localhost:8080/"
        },
        "id": "metBBCHVY0-v",
        "outputId": "6b8d8ea9-a3cd-49d1-8d53-fe125e8100d3"
      },
      "outputs": [
        {
          "data": {
            "text/plain": [
              "81146"
            ]
          },
          "execution_count": 13,
          "metadata": {},
          "output_type": "execute_result"
        }
      ],
      "source": [
        "len(df)"
      ]
    },
    {
      "cell_type": "code",
      "execution_count": null,
      "metadata": {
        "id": "MNiJ58euBO8j"
      },
      "outputs": [],
      "source": [
        "from sklearn.model_selection import train_test_split"
      ]
    },
    {
      "cell_type": "code",
      "execution_count": null,
      "metadata": {
        "id": "mA17gQcmBmVY"
      },
      "outputs": [],
      "source": [
        "df_train, df_test_split = train_test_split(df, test_size=0.1, random_state=121)"
      ]
    },
    {
      "cell_type": "code",
      "execution_count": null,
      "metadata": {
        "id": "L40TRzDXDCWl"
      },
      "outputs": [],
      "source": [
        "df_test, df_validation = train_test_split(df_test_split, test_size=0.8, random_state=121)"
      ]
    },
    {
      "cell_type": "code",
      "execution_count": null,
      "metadata": {
        "colab": {
          "base_uri": "https://localhost:8080/"
        },
        "id": "UbA0yQRrDMiX",
        "outputId": "5d5257bd-6792-438b-eb90-65986eed38ce"
      },
      "outputs": [
        {
          "data": {
            "text/plain": [
              "1623"
            ]
          },
          "execution_count": 44,
          "metadata": {},
          "output_type": "execute_result"
        }
      ],
      "source": [
        "len(df_test)"
      ]
    },
    {
      "cell_type": "markdown",
      "metadata": {
        "id": "VV5st8fBZpTx"
      },
      "source": [
        "# Evaluation"
      ]
    },
    {
      "cell_type": "code",
      "execution_count": null,
      "metadata": {
        "id": "8R1-D8d4JYGe"
      },
      "outputs": [],
      "source": [
        "import os\n",
        "from transformers import AutoModelForSeq2SeqLM, NllbTokenizer\n",
        "\n",
        "MODEL_SAVE_PATH = '/content/drive/MyDrive/Colab Notebooks/Hackathon/Trained_models'\n",
        "\n",
        "model = AutoModelForSeq2SeqLM.from_pretrained(MODEL_SAVE_PATH).cuda();\n",
        "tokenizer = NllbTokenizer.from_pretrained(MODEL_SAVE_PATH)"
      ]
    },
    {
      "cell_type": "code",
      "execution_count": null,
      "metadata": {
        "id": "K5QGnofjZuxj"
      },
      "outputs": [],
      "source": [
        "def translate(\n",
        "    text, src_lang='rus_Cyrl', tgt_lang='eng_Latn',\n",
        "    a=32, b=3, max_input_length=1024, num_beams=4, **kwargs\n",
        "):\n",
        "    \"\"\"Turn a text or a list of texts into a list of translations\"\"\"\n",
        "    tokenizer.src_lang = src_lang\n",
        "    tokenizer.tgt_lang = tgt_lang\n",
        "    inputs = tokenizer(\n",
        "        text, return_tensors='pt', padding=True, truncation=True,\n",
        "        max_length=max_input_length\n",
        "    )\n",
        "    model.eval() # turn off training mode\n",
        "    result = model.generate(\n",
        "        **inputs.to(model.device),\n",
        "        forced_bos_token_id=tokenizer.convert_tokens_to_ids(tgt_lang),\n",
        "        max_new_tokens=int(a + b * inputs.input_ids.shape[1]),\n",
        "        num_beams=num_beams, **kwargs\n",
        "    )\n",
        "    return tokenizer.batch_decode(result, skip_special_tokens=True)"
      ]
    },
    {
      "cell_type": "code",
      "execution_count": null,
      "metadata": {
        "id": "A2c3VzX6cFk7",
        "outputId": "f417df31-a0c4-4d02-95f2-c05b76853a6f"
      },
      "outputs": [
        {
          "name": "stdout",
          "output_type": "stream",
          "text": [
            "['Обитатели южных районов научились накапливать в организме запасы влаги, по этому по долгу могут обходиться без воды.']\n"
          ]
        }
      ],
      "source": [
        "# Example usage:\n",
        "t = 'А̄лы ма̄т о̄лнэ то̄ва ӯйхулт вит та̄нти палтыланыл ӯньщим о̄луӈкв ханьщувласт,  таи ма̄гсыл хо̄са вит тал о̄луӈкв вēрмегы.'\n",
        "print(translate(t, 'mns_Cyrl', 'rus_Cyrl'))\n",
        "# ['Обитатели южных районов научились накапливать в организме запасы влаги, по этому по долгу могут обходиться без воды.']"
      ]
    },
    {
      "cell_type": "code",
      "execution_count": null,
      "metadata": {
        "id": "_O6mhSVecFk7",
        "outputId": "77bb1d15-be5b-4c67-a6b1-0b25edc07175"
      },
      "outputs": [
        {
          "name": "stdout",
          "output_type": "stream",
          "text": [
            "['Тав са̄в хо̄тпан ва̄ве, са̄в ма̄т ва̄ве.']\n"
          ]
        }
      ],
      "source": [
        "# Example usage:\n",
        "t = 'Его много народу знает, во многих странах известен.'\n",
        "print(translate(t, 'rus_Cyrl', 'mns_Cyrl'))\n",
        "# ['Тав са̄в хо̄тпан ва̄ве, са̄в ма̄т ва̄ве.']"
      ]
    },
    {
      "cell_type": "code",
      "execution_count": null,
      "metadata": {
        "id": "JoWvizFCRngQ"
      },
      "outputs": [],
      "source": [
        "def batched_translate(texts, batch_size=16, **kwargs):\n",
        "    \"\"\"Translate texts in batches of similar length\"\"\"\n",
        "    idxs, texts2 = zip(*sorted(enumerate(texts), key=lambda p: len(p[1]), reverse=True))\n",
        "    results = []\n",
        "    for i in trange(0, len(texts2), batch_size):\n",
        "        results.extend(translate(texts2[i: i+batch_size], **kwargs))\n",
        "    return [p for i, p in sorted(zip(idxs, results))]"
      ]
    },
    {
      "cell_type": "code",
      "execution_count": null,
      "metadata": {
        "id": "3Rr2JRpxRXHe"
      },
      "outputs": [],
      "source": [
        "from tqdm.auto import tqdm"
      ]
    },
    {
      "cell_type": "code",
      "execution_count": null,
      "metadata": {
        "colab": {
          "base_uri": "https://localhost:8080/",
          "height": 49,
          "referenced_widgets": [
            "ad0a36173f6c4ffd9bd8e5d9621f28ef",
            "476018b0ec3648f18d61cc1c7eaf808a",
            "eebb34b2a61841da8897a5dc82264ff0",
            "3007f8f7fc1b44e89faafe38ea43c18d",
            "b0fa4cf0799649b1affc2aa9cf8fa421",
            "bad79cff963042ce9c3e4a7f714ed494",
            "22b0634bbf114dcc8e2b75413def7bdc",
            "5b613e7a65b94ac39d7f652171f16654",
            "9344d4924bef4ce3bc769315d109bafd",
            "34204435bd2f4886b9d000ac30ed43aa",
            "d58d1288ced74e1aaed829909fbe3184",
            "fc137d9cecb9492bb9aad77692922095",
            "5e004c0b1fca40eb9ce3601ebd47572d"
          ]
        },
        "id": "k3S475uG3fBh",
        "outputId": "41cf3996-397b-49a8-ae54-44aaa46a1175"
      },
      "outputs": [
        {
          "data": {
            "application/vnd.jupyter.widget-view+json": {
              "model_id": "fc137d9cecb9492bb9aad77692922095",
              "version_major": 2,
              "version_minor": 0
            },
            "text/plain": [
              "  0%|          | 0/1623 [00:00<?, ?it/s]"
            ]
          },
          "metadata": {},
          "output_type": "display_data"
        },
        {
          "data": {
            "application/vnd.jupyter.widget-view+json": {
              "model_id": "5e004c0b1fca40eb9ce3601ebd47572d",
              "version_major": 2,
              "version_minor": 0
            },
            "text/plain": [
              "  0%|          | 0/1623 [00:00<?, ?it/s]"
            ]
          },
          "metadata": {},
          "output_type": "display_data"
        }
      ],
      "source": [
        "df_test['source_translated'] = [translate(t, 'mns_Cyrl', 'rus_Cyrl')[0] for t in tqdm(df_test.target)]\n",
        "df_test['target_translated'] = [translate(t, 'rus_Cyrl', 'mns_Cyrl')[0] for t in tqdm(df_test.source)]"
      ]
    },
    {
      "cell_type": "code",
      "execution_count": null,
      "metadata": {
        "id": "BsrL6hDKcFk8",
        "outputId": "7d8571ba-71c0-4e06-edbf-61212a63db57"
      },
      "outputs": [
        {
          "name": "stdout",
          "output_type": "stream",
          "text": [
            "BLEU = 24.97 57.3/29.4/18.5/12.5 (BP = 1.000 ratio = 1.000 hyp_len = 16658 ref_len = 16659)\n",
            "chrF2++ = 49.07\n",
            "BLEU = 27.06 57.5/32.2/21.5/15.4 (BP = 0.966 ratio = 0.967 hyp_len = 15608 ref_len = 16145)\n",
            "chrF2++ = 53.04\n"
          ]
        }
      ],
      "source": [
        "import sacrebleu\n",
        "bleu_calc = sacrebleu.BLEU(max_ngram_order=4)\n",
        "chrf_calc = sacrebleu.CHRF(word_order=2)  # this metric is called ChrF++   word_order=2\n",
        "\n",
        "# 0.240 text preproc - both\n",
        "\n",
        "print(bleu_calc.corpus_score(df_test['source_translated'].tolist(), [df_test['source'].tolist()]))\n",
        "print(chrf_calc.corpus_score(df_test['source_translated'].tolist(), [df_test['source'].tolist()]))\n",
        "print(bleu_calc.corpus_score(df_test['target_translated'].tolist(), [df_test['target'].tolist()]))\n",
        "print(chrf_calc.corpus_score(df_test['target_translated'].tolist(), [df_test['target'].tolist()]))"
      ]
    },
    {
      "cell_type": "code",
      "execution_count": null,
      "metadata": {
        "id": "sBVn_b4rcFk8",
        "outputId": "69a3f610-2960-4b10-8a69-a51196814fc7"
      },
      "outputs": [
        {
          "data": {
            "text/html": [
              "<div>\n",
              "<style scoped>\n",
              "    .dataframe tbody tr th:only-of-type {\n",
              "        vertical-align: middle;\n",
              "    }\n",
              "\n",
              "    .dataframe tbody tr th {\n",
              "        vertical-align: top;\n",
              "    }\n",
              "\n",
              "    .dataframe thead th {\n",
              "        text-align: right;\n",
              "    }\n",
              "</style>\n",
              "<table border=\"1\" class=\"dataframe\">\n",
              "  <thead>\n",
              "    <tr style=\"text-align: right;\">\n",
              "      <th></th>\n",
              "      <th>Unnamed: 0</th>\n",
              "      <th>target</th>\n",
              "      <th>source</th>\n",
              "      <th>source_translated</th>\n",
              "      <th>target_translated</th>\n",
              "    </tr>\n",
              "  </thead>\n",
              "  <tbody>\n",
              "    <tr>\n",
              "      <th>1021</th>\n",
              "      <td>1021</td>\n",
              "      <td>Тамле мо̄йт ты о̄лы.</td>\n",
              "      <td>Вот такая сказка есть.</td>\n",
              "      <td>Вот такая эта сказка.</td>\n",
              "      <td>Тамле ты мо̄йт о̄лы.</td>\n",
              "    </tr>\n",
              "    <tr>\n",
              "      <th>69803</th>\n",
              "      <td>17966</td>\n",
              "      <td>Яныг а̄гитэ̄н Ольга Ня̄хщамво̄ль па̄вылт Дима ...</td>\n",
              "      <td>Старшая дочь Ольга с сыном Димой живут в посёл...</td>\n",
              "      <td>Старшая дочь Ольга в Няксимволе с сыном Димой ...</td>\n",
              "      <td>Яныг а̄гитэ̄н Ольга Дима пыге ёт Ня̄хщамво̄ль ...</td>\n",
              "    </tr>\n",
              "    <tr>\n",
              "      <th>46160</th>\n",
              "      <td>46160</td>\n",
              "      <td>Тот та сунсыглахтуӈкве патыс.</td>\n",
              "      <td>Там он начал осматриваться.</td>\n",
              "      <td>И там начала рассматривать всё.</td>\n",
              "      <td>Тув сунсыглахтуӈкве патыс.</td>\n",
              "    </tr>\n",
              "    <tr>\n",
              "      <th>30347</th>\n",
              "      <td>30347</td>\n",
              "      <td>Нила ургалахтым ма̄хум та̄нти хот-рохтысыт, то...</td>\n",
              "      <td>Четверо стражников от страха перед ним затрясл...</td>\n",
              "      <td>Четыре берестяных человека сами испугались, др...</td>\n",
              "      <td>Нила урнэ хум тав э̄лы-пāлэт хот-рохтысыт, хол...</td>\n",
              "    </tr>\n",
              "    <tr>\n",
              "      <th>40354</th>\n",
              "      <td>40354</td>\n",
              "      <td>Товлыӈхап нё̄лэт ё̄л ке пēлхаты, на̄н са̄квата...</td>\n",
              "      <td>Если самолёт ударится носом, убьётесь.</td>\n",
              "      <td>Если самолет сгорит с носа, вы можете раниться.</td>\n",
              "      <td>Товлыӈха̄пын нёл ке хо̄йи, алэ̄н.</td>\n",
              "    </tr>\n",
              "    <tr>\n",
              "      <th>...</th>\n",
              "      <td>...</td>\n",
              "      <td>...</td>\n",
              "      <td>...</td>\n",
              "      <td>...</td>\n",
              "      <td>...</td>\n",
              "    </tr>\n",
              "    <tr>\n",
              "      <th>2071</th>\n",
              "      <td>2071</td>\n",
              "      <td>Э̄рттам, лё̄муйт лё̄муй-а̄щаныл па̄лт ювле ёхт...</td>\n",
              "      <td>Будто бы, все комары возвращаются к своему отц...</td>\n",
              "      <td>Будто бы комары к отцу-комару обратно придут.</td>\n",
              "      <td>Аквтопмат ань лё̄муйт ань, акв ювле лё̄муй а̄щ...</td>\n",
              "    </tr>\n",
              "    <tr>\n",
              "      <th>42492</th>\n",
              "      <td>42492</td>\n",
              "      <td>Са̄сныл матыр-а̄ти щаквщуӈкве нас хунь, хорамы...</td>\n",
              "      <td>Работать с берестой - это, конечно, непростое ...</td>\n",
              "      <td>Из бересты делать что не просто, для рисования...</td>\n",
              "      <td>Са̄с ёт рӯпитаӈкве - тыи, ва̄им, нас рӯпата ху...</td>\n",
              "    </tr>\n",
              "    <tr>\n",
              "      <th>43209</th>\n",
              "      <td>43209</td>\n",
              "      <td>ма̄ньщиянув сахил, мольщаӈыл, ва̄ил манос ня̄р...</td>\n",
              "      <td>Взрослые и дети одеты в красивые зимние одежды...</td>\n",
              "      <td>Мансийских людей в шубе, малице, в меховой обу...</td>\n",
              "      <td>Яныг хо̄тпат ос ня̄врамыт тэ̄лы са̄всыр нё̄тнэ...</td>\n",
              "    </tr>\n",
              "    <tr>\n",
              "      <th>8818</th>\n",
              "      <td>8818</td>\n",
              "      <td>Тав та̄лэ ат ро̄ви ты тэ̄лан вуйхатуӈкв</td>\n",
              "      <td>Без него нельзя браться за это дело</td>\n",
              "      <td>Без него нельзя делать это дело.</td>\n",
              "      <td>Тав та̄лэ ат тайи вуйхатахтуӈкв</td>\n",
              "    </tr>\n",
              "    <tr>\n",
              "      <th>33683</th>\n",
              "      <td>33683</td>\n",
              "      <td>Тамле яныг номтыл тав та лāвыгла̄лвес.</td>\n",
              "      <td>Такой большой ум ему был предсказан</td>\n",
              "      <td>С такими большими мыслями вспоминали его.</td>\n",
              "      <td>Тахурип яныг номт тавен хӯлтвес</td>\n",
              "    </tr>\n",
              "  </tbody>\n",
              "</table>\n",
              "<p>1623 rows × 5 columns</p>\n",
              "</div>"
            ],
            "text/plain": [
              "       Unnamed: 0                                             target  \\\n",
              "1021         1021                               Тамле мо̄йт ты о̄лы.   \n",
              "69803       17966  Яныг а̄гитэ̄н Ольга Ня̄хщамво̄ль па̄вылт Дима ...   \n",
              "46160       46160                      Тот та сунсыглахтуӈкве патыс.   \n",
              "30347       30347  Нила ургалахтым ма̄хум та̄нти хот-рохтысыт, то...   \n",
              "40354       40354  Товлыӈхап нё̄лэт ё̄л ке пēлхаты, на̄н са̄квата...   \n",
              "...           ...                                                ...   \n",
              "2071         2071  Э̄рттам, лё̄муйт лё̄муй-а̄щаныл па̄лт ювле ёхт...   \n",
              "42492       42492  Са̄сныл матыр-а̄ти щаквщуӈкве нас хунь, хорамы...   \n",
              "43209       43209  ма̄ньщиянув сахил, мольщаӈыл, ва̄ил манос ня̄р...   \n",
              "8818         8818            Тав та̄лэ ат ро̄ви ты тэ̄лан вуйхатуӈкв   \n",
              "33683       33683             Тамле яныг номтыл тав та лāвыгла̄лвес.   \n",
              "\n",
              "                                                  source  \\\n",
              "1021                              Вот такая сказка есть.   \n",
              "69803  Старшая дочь Ольга с сыном Димой живут в посёл...   \n",
              "46160                        Там он начал осматриваться.   \n",
              "30347  Четверо стражников от страха перед ним затрясл...   \n",
              "40354             Если самолёт ударится носом, убьётесь.   \n",
              "...                                                  ...   \n",
              "2071   Будто бы, все комары возвращаются к своему отц...   \n",
              "42492  Работать с берестой - это, конечно, непростое ...   \n",
              "43209  Взрослые и дети одеты в красивые зимние одежды...   \n",
              "8818                 Без него нельзя браться за это дело   \n",
              "33683                Такой большой ум ему был предсказан   \n",
              "\n",
              "                                       source_translated  \\\n",
              "1021                               Вот такая эта сказка.   \n",
              "69803  Старшая дочь Ольга в Няксимволе с сыном Димой ...   \n",
              "46160                    И там начала рассматривать всё.   \n",
              "30347  Четыре берестяных человека сами испугались, др...   \n",
              "40354    Если самолет сгорит с носа, вы можете раниться.   \n",
              "...                                                  ...   \n",
              "2071       Будто бы комары к отцу-комару обратно придут.   \n",
              "42492  Из бересты делать что не просто, для рисования...   \n",
              "43209  Мансийских людей в шубе, малице, в меховой обу...   \n",
              "8818                    Без него нельзя делать это дело.   \n",
              "33683          С такими большими мыслями вспоминали его.   \n",
              "\n",
              "                                       target_translated  \n",
              "1021                                Тамле ты мо̄йт о̄лы.  \n",
              "69803  Яныг а̄гитэ̄н Ольга Дима пыге ёт Ня̄хщамво̄ль ...  \n",
              "46160                         Тув сунсыглахтуӈкве патыс.  \n",
              "30347  Нила урнэ хум тав э̄лы-пāлэт хот-рохтысыт, хол...  \n",
              "40354                  Товлыӈха̄пын нёл ке хо̄йи, алэ̄н.  \n",
              "...                                                  ...  \n",
              "2071   Аквтопмат ань лё̄муйт ань, акв ювле лё̄муй а̄щ...  \n",
              "42492  Са̄с ёт рӯпитаӈкве - тыи, ва̄им, нас рӯпата ху...  \n",
              "43209  Яныг хо̄тпат ос ня̄врамыт тэ̄лы са̄всыр нё̄тнэ...  \n",
              "8818                     Тав та̄лэ ат тайи вуйхатахтуӈкв  \n",
              "33683                    Тахурип яныг номт тавен хӯлтвес  \n",
              "\n",
              "[1623 rows x 5 columns]"
            ]
          },
          "execution_count": 53,
          "metadata": {},
          "output_type": "execute_result"
        }
      ],
      "source": [
        "df_test"
      ]
    }
  ],
  "metadata": {
    "accelerator": "GPU",
    "colab": {
      "gpuType": "T4",
      "provenance": []
    },
    "kernelspec": {
      "display_name": "Python 3 (ipykernel)",
      "language": "python",
      "name": "python3"
    },
    "language_info": {
      "codemirror_mode": {
        "name": "ipython",
        "version": 3
      },
      "file_extension": ".py",
      "mimetype": "text/x-python",
      "name": "python",
      "nbconvert_exporter": "python",
      "pygments_lexer": "ipython3",
      "version": "3.11.5"
    },
    "widgets": {
      "application/vnd.jupyter.widget-state+json": {
        "22b0634bbf114dcc8e2b75413def7bdc": {
          "model_module": "@jupyter-widgets/controls",
          "model_module_version": "1.5.0",
          "model_name": "DescriptionStyleModel",
          "state": {
            "_model_module": "@jupyter-widgets/controls",
            "_model_module_version": "1.5.0",
            "_model_name": "DescriptionStyleModel",
            "_view_count": null,
            "_view_module": "@jupyter-widgets/base",
            "_view_module_version": "1.2.0",
            "_view_name": "StyleView",
            "description_width": ""
          }
        },
        "3007f8f7fc1b44e89faafe38ea43c18d": {
          "model_module": "@jupyter-widgets/controls",
          "model_module_version": "1.5.0",
          "model_name": "HTMLModel",
          "state": {
            "_dom_classes": [],
            "_model_module": "@jupyter-widgets/controls",
            "_model_module_version": "1.5.0",
            "_model_name": "HTMLModel",
            "_view_count": null,
            "_view_module": "@jupyter-widgets/controls",
            "_view_module_version": "1.5.0",
            "_view_name": "HTMLView",
            "description": "",
            "description_tooltip": null,
            "layout": "IPY_MODEL_34204435bd2f4886b9d000ac30ed43aa",
            "placeholder": "​",
            "style": "IPY_MODEL_d58d1288ced74e1aaed829909fbe3184",
            "value": " 839/1623 [07:31&lt;06:54,  1.89it/s]"
          }
        },
        "34204435bd2f4886b9d000ac30ed43aa": {
          "model_module": "@jupyter-widgets/base",
          "model_module_version": "1.2.0",
          "model_name": "LayoutModel",
          "state": {
            "_model_module": "@jupyter-widgets/base",
            "_model_module_version": "1.2.0",
            "_model_name": "LayoutModel",
            "_view_count": null,
            "_view_module": "@jupyter-widgets/base",
            "_view_module_version": "1.2.0",
            "_view_name": "LayoutView",
            "align_content": null,
            "align_items": null,
            "align_self": null,
            "border": null,
            "bottom": null,
            "display": null,
            "flex": null,
            "flex_flow": null,
            "grid_area": null,
            "grid_auto_columns": null,
            "grid_auto_flow": null,
            "grid_auto_rows": null,
            "grid_column": null,
            "grid_gap": null,
            "grid_row": null,
            "grid_template_areas": null,
            "grid_template_columns": null,
            "grid_template_rows": null,
            "height": null,
            "justify_content": null,
            "justify_items": null,
            "left": null,
            "margin": null,
            "max_height": null,
            "max_width": null,
            "min_height": null,
            "min_width": null,
            "object_fit": null,
            "object_position": null,
            "order": null,
            "overflow": null,
            "overflow_x": null,
            "overflow_y": null,
            "padding": null,
            "right": null,
            "top": null,
            "visibility": null,
            "width": null
          }
        },
        "476018b0ec3648f18d61cc1c7eaf808a": {
          "model_module": "@jupyter-widgets/controls",
          "model_module_version": "1.5.0",
          "model_name": "HTMLModel",
          "state": {
            "_dom_classes": [],
            "_model_module": "@jupyter-widgets/controls",
            "_model_module_version": "1.5.0",
            "_model_name": "HTMLModel",
            "_view_count": null,
            "_view_module": "@jupyter-widgets/controls",
            "_view_module_version": "1.5.0",
            "_view_name": "HTMLView",
            "description": "",
            "description_tooltip": null,
            "layout": "IPY_MODEL_bad79cff963042ce9c3e4a7f714ed494",
            "placeholder": "​",
            "style": "IPY_MODEL_22b0634bbf114dcc8e2b75413def7bdc",
            "value": " 52%"
          }
        },
        "5b613e7a65b94ac39d7f652171f16654": {
          "model_module": "@jupyter-widgets/base",
          "model_module_version": "1.2.0",
          "model_name": "LayoutModel",
          "state": {
            "_model_module": "@jupyter-widgets/base",
            "_model_module_version": "1.2.0",
            "_model_name": "LayoutModel",
            "_view_count": null,
            "_view_module": "@jupyter-widgets/base",
            "_view_module_version": "1.2.0",
            "_view_name": "LayoutView",
            "align_content": null,
            "align_items": null,
            "align_self": null,
            "border": null,
            "bottom": null,
            "display": null,
            "flex": null,
            "flex_flow": null,
            "grid_area": null,
            "grid_auto_columns": null,
            "grid_auto_flow": null,
            "grid_auto_rows": null,
            "grid_column": null,
            "grid_gap": null,
            "grid_row": null,
            "grid_template_areas": null,
            "grid_template_columns": null,
            "grid_template_rows": null,
            "height": null,
            "justify_content": null,
            "justify_items": null,
            "left": null,
            "margin": null,
            "max_height": null,
            "max_width": null,
            "min_height": null,
            "min_width": null,
            "object_fit": null,
            "object_position": null,
            "order": null,
            "overflow": null,
            "overflow_x": null,
            "overflow_y": null,
            "padding": null,
            "right": null,
            "top": null,
            "visibility": null,
            "width": null
          }
        },
        "9344d4924bef4ce3bc769315d109bafd": {
          "model_module": "@jupyter-widgets/controls",
          "model_module_version": "1.5.0",
          "model_name": "ProgressStyleModel",
          "state": {
            "_model_module": "@jupyter-widgets/controls",
            "_model_module_version": "1.5.0",
            "_model_name": "ProgressStyleModel",
            "_view_count": null,
            "_view_module": "@jupyter-widgets/base",
            "_view_module_version": "1.2.0",
            "_view_name": "StyleView",
            "bar_color": null,
            "description_width": ""
          }
        },
        "ad0a36173f6c4ffd9bd8e5d9621f28ef": {
          "model_module": "@jupyter-widgets/controls",
          "model_module_version": "1.5.0",
          "model_name": "HBoxModel",
          "state": {
            "_dom_classes": [],
            "_model_module": "@jupyter-widgets/controls",
            "_model_module_version": "1.5.0",
            "_model_name": "HBoxModel",
            "_view_count": null,
            "_view_module": "@jupyter-widgets/controls",
            "_view_module_version": "1.5.0",
            "_view_name": "HBoxView",
            "box_style": "",
            "children": [
              "IPY_MODEL_476018b0ec3648f18d61cc1c7eaf808a",
              "IPY_MODEL_eebb34b2a61841da8897a5dc82264ff0",
              "IPY_MODEL_3007f8f7fc1b44e89faafe38ea43c18d"
            ],
            "layout": "IPY_MODEL_b0fa4cf0799649b1affc2aa9cf8fa421"
          }
        },
        "b0fa4cf0799649b1affc2aa9cf8fa421": {
          "model_module": "@jupyter-widgets/base",
          "model_module_version": "1.2.0",
          "model_name": "LayoutModel",
          "state": {
            "_model_module": "@jupyter-widgets/base",
            "_model_module_version": "1.2.0",
            "_model_name": "LayoutModel",
            "_view_count": null,
            "_view_module": "@jupyter-widgets/base",
            "_view_module_version": "1.2.0",
            "_view_name": "LayoutView",
            "align_content": null,
            "align_items": null,
            "align_self": null,
            "border": null,
            "bottom": null,
            "display": null,
            "flex": null,
            "flex_flow": null,
            "grid_area": null,
            "grid_auto_columns": null,
            "grid_auto_flow": null,
            "grid_auto_rows": null,
            "grid_column": null,
            "grid_gap": null,
            "grid_row": null,
            "grid_template_areas": null,
            "grid_template_columns": null,
            "grid_template_rows": null,
            "height": null,
            "justify_content": null,
            "justify_items": null,
            "left": null,
            "margin": null,
            "max_height": null,
            "max_width": null,
            "min_height": null,
            "min_width": null,
            "object_fit": null,
            "object_position": null,
            "order": null,
            "overflow": null,
            "overflow_x": null,
            "overflow_y": null,
            "padding": null,
            "right": null,
            "top": null,
            "visibility": null,
            "width": null
          }
        },
        "bad79cff963042ce9c3e4a7f714ed494": {
          "model_module": "@jupyter-widgets/base",
          "model_module_version": "1.2.0",
          "model_name": "LayoutModel",
          "state": {
            "_model_module": "@jupyter-widgets/base",
            "_model_module_version": "1.2.0",
            "_model_name": "LayoutModel",
            "_view_count": null,
            "_view_module": "@jupyter-widgets/base",
            "_view_module_version": "1.2.0",
            "_view_name": "LayoutView",
            "align_content": null,
            "align_items": null,
            "align_self": null,
            "border": null,
            "bottom": null,
            "display": null,
            "flex": null,
            "flex_flow": null,
            "grid_area": null,
            "grid_auto_columns": null,
            "grid_auto_flow": null,
            "grid_auto_rows": null,
            "grid_column": null,
            "grid_gap": null,
            "grid_row": null,
            "grid_template_areas": null,
            "grid_template_columns": null,
            "grid_template_rows": null,
            "height": null,
            "justify_content": null,
            "justify_items": null,
            "left": null,
            "margin": null,
            "max_height": null,
            "max_width": null,
            "min_height": null,
            "min_width": null,
            "object_fit": null,
            "object_position": null,
            "order": null,
            "overflow": null,
            "overflow_x": null,
            "overflow_y": null,
            "padding": null,
            "right": null,
            "top": null,
            "visibility": null,
            "width": null
          }
        },
        "d58d1288ced74e1aaed829909fbe3184": {
          "model_module": "@jupyter-widgets/controls",
          "model_module_version": "1.5.0",
          "model_name": "DescriptionStyleModel",
          "state": {
            "_model_module": "@jupyter-widgets/controls",
            "_model_module_version": "1.5.0",
            "_model_name": "DescriptionStyleModel",
            "_view_count": null,
            "_view_module": "@jupyter-widgets/base",
            "_view_module_version": "1.2.0",
            "_view_name": "StyleView",
            "description_width": ""
          }
        },
        "eebb34b2a61841da8897a5dc82264ff0": {
          "model_module": "@jupyter-widgets/controls",
          "model_module_version": "1.5.0",
          "model_name": "FloatProgressModel",
          "state": {
            "_dom_classes": [],
            "_model_module": "@jupyter-widgets/controls",
            "_model_module_version": "1.5.0",
            "_model_name": "FloatProgressModel",
            "_view_count": null,
            "_view_module": "@jupyter-widgets/controls",
            "_view_module_version": "1.5.0",
            "_view_name": "ProgressView",
            "bar_style": "",
            "description": "",
            "description_tooltip": null,
            "layout": "IPY_MODEL_5b613e7a65b94ac39d7f652171f16654",
            "max": 1623,
            "min": 0,
            "orientation": "horizontal",
            "style": "IPY_MODEL_9344d4924bef4ce3bc769315d109bafd",
            "value": 839
          }
        }
      }
    }
  },
  "nbformat": 4,
  "nbformat_minor": 0
}